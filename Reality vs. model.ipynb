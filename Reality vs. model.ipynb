{
 "cells": [
  {
   "cell_type": "markdown",
   "id": "6f36d31b",
   "metadata": {},
   "source": [
    "# Hypthesis tests, p-values, and alpha-levels\n",
    "\n",
    "## The reality\n",
    "\n",
    "In statistics it is important to be able to distinguish reality from the model.  \n",
    "\n",
    "Take for instance a die.  This has a \"uniform distribution\".  For the purpose of this example, we'll take this to be \"the reality\".  "
   ]
  },
  {
   "cell_type": "code",
   "execution_count": 5,
   "id": "8eced503",
   "metadata": {},
   "outputs": [
    {
     "name": "stdout",
     "output_type": "stream",
     "text": [
      "5\n"
     ]
    }
   ],
   "source": [
    "from sympy.stats import Die, sample\n",
    "reality = Die('die', 6)\n",
    "print(sample(die))"
   ]
  },
  {
   "cell_type": "markdown",
   "id": "c5968cc5",
   "metadata": {},
   "source": [
    " ## The model\n",
    " \n",
    " Now if we knew the reality there would be no need for statistics.  We need to form a belief about the probability distribution of the die.  We might think that it's uniform, or we might think it's unfair.  For whatever reason, let's assume that we think it's biased with probability table: \n",
    " \n",
    "p(1) = 1/10\n",
    "\n",
    "p(2) = 1/10\n",
    "\n",
    "p(3) = 1/10\n",
    "\n",
    "p(4) = 1/10\n",
    "\n",
    "p(5) = 1/10\n",
    "\n",
    "p(6) = 1/2\n",
    "\n",
    "This model is our hypothesis -- we are hypothesizing that this model is the reality.  Maybe it is; maybe it isn't.  (We know the answer is, it isn't, but let's just pretend that we never got to see what the reality really was.)  "
   ]
  },
  {
   "cell_type": "code",
   "execution_count": null,
   "id": "d3a91d60",
   "metadata": {},
   "outputs": [],
   "source": []
  },
  {
   "cell_type": "code",
   "execution_count": null,
   "id": "ea1232db",
   "metadata": {},
   "outputs": [],
   "source": []
  }
 ],
 "metadata": {
  "kernelspec": {
   "display_name": "Python 3 (ipykernel)",
   "language": "python",
   "name": "python3"
  },
  "language_info": {
   "codemirror_mode": {
    "name": "ipython",
    "version": 3
   },
   "file_extension": ".py",
   "mimetype": "text/x-python",
   "name": "python",
   "nbconvert_exporter": "python",
   "pygments_lexer": "ipython3",
   "version": "3.8.12"
  }
 },
 "nbformat": 4,
 "nbformat_minor": 5
}
